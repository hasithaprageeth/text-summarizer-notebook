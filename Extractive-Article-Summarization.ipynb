{
 "cells": [
  {
   "cell_type": "markdown",
   "metadata": {},
   "source": [
    "# Using NLTK: WordFrequency Algorithm - Method 1"
   ]
  },
  {
   "cell_type": "code",
   "execution_count": 3,
   "metadata": {},
   "outputs": [],
   "source": [
    "import nltk \n",
    "from nltk.corpus import stopwords \n",
    "from nltk.tokenize import word_tokenize, sent_tokenize \n",
    "\n",
    "article = (open(\"./data/article.txt\", 'r')).read()\n",
    "\n",
    "# Tokenize article \n",
    "words = word_tokenize(article)"
   ]
  },
  {
   "cell_type": "code",
   "execution_count": 4,
   "metadata": {},
   "outputs": [],
   "source": [
    "# Create a frequency table to keep the score of each word\n",
    "freqencyTable = dict()\n",
    "stopWords = set(stopwords.words(\"english\"))\n",
    "\n",
    "for word in words: \n",
    "    word = word.lower() \n",
    "    if word in stopWords: \n",
    "        continue\n",
    "    if word in freqencyTable: \n",
    "        freqencyTable[word] += 1\n",
    "    else: \n",
    "        freqencyTable[word] = 1"
   ]
  },
  {
   "cell_type": "code",
   "execution_count": 5,
   "metadata": {},
   "outputs": [],
   "source": [
    "# Create a dictionary to keep the score of each sentence \n",
    "sentences = sent_tokenize(article) \n",
    "sentenceScore = dict() \n",
    "\n",
    "for sentence in sentences: \n",
    "    for word, frequency in freqencyTable.items(): \n",
    "        if word in sentence.lower(): \n",
    "            if sentence in sentenceScore: \n",
    "                sentenceScore[sentence] += frequency \n",
    "            else: \n",
    "                sentenceScore[sentence] = frequency"
   ]
  },
  {
   "cell_type": "code",
   "execution_count": 6,
   "metadata": {},
   "outputs": [],
   "source": [
    "# Average score of a sentence\n",
    "sumScores = 0\n",
    "for value in sentenceScore.values():\n",
    "    sumScores += value    \n",
    "\n",
    "avgScore = int(sumScores/len(sentenceScore))"
   ]
  },
  {
   "cell_type": "code",
   "execution_count": 7,
   "metadata": {},
   "outputs": [
    {
     "name": "stdout",
     "output_type": "stream",
     "text": [
      " The earliest evidence of human habitation at Sigiriya is the Aligala rock shelter to the east of Sigiriya rock, indicating that the area was occupied nearly five thousand years ago during the Mesolithic Period. In 477 AD, Kashyapa I, the kingâ€™s son by a non-royal consort, seized the throne from King Dhatusena, following a coup assisted by Migara, the Kingâ€™s nephew and army commander. Afraid of an attack by Moggallana, Kashyapa moved the capital and his residence from the traditional capital of Anuradhapura to the more secure Sigiriya. During King Kashyapaâ€™s reign (477 to 495 AD), Sigiriya was developed into a complex city and fortress. Kashyapa murdered his father by walling him up alive and then usurping the throne which rightfully belonged to his half-brother Moggallana, Dhatusena's son by the true queen. Expecting the inevitable return of Moggallana, Kashyapa is said to have built his palace on the summit of Sigiriya as a fortress as well as a pleasure palace. The Culavamsa and folklore inform us that the battle-elephant on which Kashyapa was mounted changed course to take a strategic advantage, but the army misinterpreted the movement as the king's having opted to retreat, prompting the army to abandon him altogether. Moggallana returned the capital to Anuradhapura, converting Sigiriya into a Buddhist monastery complex,[4] which survived until the 13th or 14th century. Alternative stories have the primary builder of Sigiriya as King Dhatusena, with Kashyapa finishing the work in honour of his father. Still other stories describe Kashyapa as a playboy king, with Sigiriya his pleasure palace.\n"
     ]
    }
   ],
   "source": [
    "# Generate summary. \n",
    "summary = '' \n",
    "for sentence in sentences: \n",
    "    if (sentence in sentenceScore.keys()) and (sentenceScore[sentence] > (1.2 * avgScore)): \n",
    "        summary += \" \" + sentence \n",
    "\n",
    "print(summary)"
   ]
  },
  {
   "cell_type": "markdown",
   "metadata": {},
   "source": [
    "# Using Gensim Summarizer - Method 2"
   ]
  },
  {
   "cell_type": "code",
   "execution_count": 14,
   "metadata": {},
   "outputs": [],
   "source": [
    "import re\n",
    "import pandas as pd\n",
    "from gensim.summarization import summarize\n",
    "from textblob import Word\n",
    "import numpy as np\n",
    "\n",
    "# Read Article text\n",
    "article_text = \"\"\n",
    "with open('./data/article.txt', 'rb') as f:\n",
    "    for idx, line in enumerate(f.readlines()):\n",
    "        article_text += line.decode('utf-8') + \" \""
   ]
  },
  {
   "cell_type": "code",
   "execution_count": 15,
   "metadata": {},
   "outputs": [
    {
     "name": "stdout",
     "output_type": "stream",
     "text": [
      "The environment around the Sigiriya may have been inhabited since prehistoric times. There is clear evidence that the many rock shelters and caves in the vicinity were occupied by Buddhist monks and ascetics from as early as the century BC. The earliest evidence of human habitation at Sigiriya is the Aligala rock shelter to the east of Sigiriya rock indicating that the area was occupied nearly five thousand years ago during the Mesolithic Period. Buddhist monastic settlements were established during the century BC in the western and northern slopes of the boulder-strewn hills surrounding the Sigiriya rock. Several rock shelters or caves were created during this period. These shelters were made under large boulders with carved drip ledges around the cave mouths. Rock inscriptions are carved near the drip ledges on many of the shelters recording the donation of the shelters to the Buddhist monastic order as residences. These were made in the period between the century BC and the century AD. In AD Kashyapa I the king’s son by a non-royal consort seized the throne from King Dhatusena following a coup assisted by Migara the King’s nephew and army commander. The rightful heir Moggallana fearing for his life fled to South India. Afraid of an attack by Moggallana Kashyapa moved the capital and his residence from the traditional capital of Anuradhapura to the more secure Sigiriya. During King Kashyapa’s reign to AD Sigiriya was developed into a complex city and fortress.[][] Most of the elaborate constructions on the rock summit and around it including defensive structures palaces and gardens date from this period. The Culavamsa describes King Kashyapa as the son of King Dhatusena. Kashyapa murdered his father by walling him up alive and then usurping the throne which rightfully belonged to his half-brother Moggallana Dhatusena son by the true queen. Moggallana fled to India to escape being assassinated by Kashyapa but vowed revenge. In India he raised an army with the intention of returning and retaking the throne of Sri Lanka which he considered to be rightfully his. Expecting the inevitable return of Moggallana Kashyapa is said to have built his palace on the summit of Sigiriya as a fortress as well as a pleasure palace. Moggallana finally arrived declared war and defeated Kashyapa in AD. During the battle Kashyapa armies abandoned him and he committed suicide by falling on his sword. The Culavamsa and folklore inform us that the battle-elephant on which Kashyapa was mounted changed course to take a strategic advantage but the army misinterpreted the movement as the king having opted to retreat prompting the army to abandon him altogether. It is said that being too proud to surrender he took his dagger from his waistband cut his throat raised the dagger proudly sheathed it and fell dead. Moggallana returned the capital to Anuradhapura converting Sigiriya into a Buddhist monastery complex[] which survived until the or century. After this period no records are found on Sigiriya until the and centuries when it was used briefly as an outpost of the Kingdom of Kandy. Alternative stories have the primary builder of Sigiriya as King Dhatusena with Kashyapa finishing the work in honour of his father. Still other stories describe Kashyapa as a playboy king with Sigiriya his pleasure palace. Even Kashyapa eventual fate is uncertain. In some versions he is assassinated by poison administered by a concubine; in others he cuts his own throat when deserted in his final battle.[] Still further interpretations regard the site as the work of a Buddhist community without a military function. This site may have been important in the competition between the Mahayana and Theravada Buddhist traditions in ancient Sri Lanka.\n"
     ]
    }
   ],
   "source": [
    "# Preprocess Article text\n",
    "def clean_str(string):\n",
    "    string = re.sub(r\"\\'s\", \"\", string)\n",
    "    string = re.sub(r\"\\'ve\", \"\", string)\n",
    "    string = re.sub(r\"n\\'t\", \"\", string)\n",
    "    string = re.sub(r\"\\'re\", \"\", string)\n",
    "    string = re.sub(r\"\\'d\", \"\", string)\n",
    "    string = re.sub(r\"\\'ll\", \"\", string)\n",
    "    string = re.sub(r\",\", \"\", string)\n",
    "    string = re.sub(r\"!\", \" ! \", string)\n",
    "    string = re.sub(r\"\\(\", \"\", string)\n",
    "    string = re.sub(r\"\\)\", \"\", string)\n",
    "    string = re.sub(r\"\\?\", \"\", string)\n",
    "    string = re.sub(r\"'\", \"\", string)\n",
    "    string = re.sub(r\"[0-9]\\w+|[0-9]\",\"\", string)\n",
    "    string = re.sub(r\"\\s{2,}\", \" \", string)\n",
    "    return string.strip()\n",
    "\n",
    "processed_article = clean_str(article_text)\n",
    "print(processed_article)"
   ]
  },
  {
   "cell_type": "code",
   "execution_count": 16,
   "metadata": {},
   "outputs": [
    {
     "data": {
      "text/plain": [
       "'Moggallana returned the capital to Anuradhapura converting Sigiriya into a Buddhist monastery complex[] which survived until the or century.'"
      ]
     },
     "execution_count": 16,
     "metadata": {},
     "output_type": "execute_result"
    }
   ],
   "source": [
    "# Summarize processed article\n",
    "summarize(processed_article, ratio=0.5, word_count=30)"
   ]
  }
 ],
 "metadata": {
  "kernelspec": {
   "display_name": "Python 3",
   "language": "python",
   "name": "python3"
  },
  "language_info": {
   "codemirror_mode": {
    "name": "ipython",
    "version": 3
   },
   "file_extension": ".py",
   "mimetype": "text/x-python",
   "name": "python",
   "nbconvert_exporter": "python",
   "pygments_lexer": "ipython3",
   "version": "3.7.3"
  }
 },
 "nbformat": 4,
 "nbformat_minor": 2
}
